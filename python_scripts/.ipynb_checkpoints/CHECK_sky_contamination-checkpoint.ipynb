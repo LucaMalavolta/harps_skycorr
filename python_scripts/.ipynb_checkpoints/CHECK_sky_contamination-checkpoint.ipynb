{
 "cells": [
  {
   "cell_type": "code",
   "execution_count": 1,
   "metadata": {},
   "outputs": [
    {
     "name": "stderr",
     "output_type": "stream",
     "text": [
      "WARNING: leap-second auto-update failed due to the following exception: ValueError(\"Malformed URL: '//anaconda3/lib/python3.7/site-packages/astropy/utils/iers/data/Leap_Second.dat'\") [astropy.time.core]\n"
     ]
    }
   ],
   "source": [
    "import numpy as np\n",
    "import matplotlib.pyplot as plt \n",
    "\n",
    "from astropy.time import Time\n",
    "from astropy.coordinates import SkyCoord, EarthLocation\n",
    "from astropy import units as u\n"
   ]
  },
  {
   "cell_type": "code",
   "execution_count": 2,
   "metadata": {},
   "outputs": [
    {
     "name": "stdout",
     "output_type": "stream",
     "text": [
      "[2457806.605223993, 2457806.8135573263]\n"
     ]
    }
   ],
   "source": [
    "night_date = '2017-02-22' # night of observation\n",
    "night_start = '02:31:31.353' # beginning of the observations\n",
    "night_duration = 5.00 # in hours \n",
    "\n",
    "epoch_start = Time([night_date+'T'+night_start], format='isot', scale='utc')\n",
    "epoch_interval = [epoch_start.jd[0], epoch_start.jd[0]+night_duration/24.]\n",
    "print(epoch_interval)\n",
    "\n",
    "\n"
   ]
  },
  {
   "cell_type": "code",
   "execution_count": 32,
   "metadata": {},
   "outputs": [],
   "source": [
    "#TNG_location = EarthLocation.from_geodetic(lat=0.0000*u.deg, lon=0.0000*u.deg, height=0*u.m)\n",
    "TNG_location = EarthLocation.of_site('Roque de los Muchachos')\n",
    "\n",
    "target = SkyCoord(ra=186.486604*u.deg, dec=-1.404572*u.deg)\n",
    "#target = SkyCoord(\"23:13:58.76\", \"+08:45:40.57\", unit=(u.hourangle, u.deg), frame='icrs')\n",
    "\n",
    "target_rv = 20.00\n"
   ]
  },
  {
   "cell_type": "code",
   "execution_count": 33,
   "metadata": {},
   "outputs": [
    {
     "name": "stdout",
     "output_type": "stream",
     "text": [
      " ** Reading MOON data tables - it may be slow!\n"
     ]
    }
   ],
   "source": [
    "print(' ** Reading MOON data tables - it may be slow!')\n",
    "\n",
    "try:\n",
    "    MOON_TNG = np.genfromtxt('/home/malavolta/CODE/harps_skycorr/tables/JPL_moon_TNG_2012_2020.csv', names = \"BJD, flag1, flag2, RA, DEC, RA_app, DEC_app, Az_app, El_app, airmass, mag_ex, APmag, surf_bright, illum, RV_Sun, RV_Obs, none\", delimiter=',', skip_header=167)\n",
    "except:\n",
    "    MOON_TNG = np.genfromtxt('/Users/malavolta/Astro/CODE/harps_skycorr/tables/JPL_moon_TNG_2012_2020.csv', names = \"BJD, flag1, flag2, RA, DEC, RA_app, DEC_app, Az_app, El_app, airmass, mag_ex, APmag, surf_bright, illum, RV_Sun, RV_Obs, none\", delimiter=',', skip_header=167)\n",
    "    "
   ]
  },
  {
   "cell_type": "code",
   "execution_count": 36,
   "metadata": {},
   "outputs": [
    {
     "name": "stdout",
     "output_type": "stream",
     "text": [
      "   2457806.6111 2017-02-22T02:40:00.000   93.48 -22.90  20.06    -3.141882954792458 km / s \n",
      "   2457806.6250 2017-02-22T03:00:00.000   93.67 -18.76  19.94    -3.1831451294772233 km / s \n",
      "   2457806.6389 2017-02-22T03:20:00.000   93.85 -14.64  19.82    -3.2248091310655767 km / s \n",
      "   2457806.6528 2017-02-22T03:40:00.000   94.03 -10.56  19.71    -3.2666027725997155 km / s \n",
      "   2457806.6667 2017-02-22T04:00:00.000   94.21  -6.52  19.60    -3.3082528830574773 km / s \n",
      "   2457806.6806 2017-02-22T04:20:00.000   94.38  -2.52  19.50    -3.34948739769862 km / s \n",
      "   2457806.6944 2017-02-22T04:40:00.000   94.77   1.17  19.40    -3.390037437227813 km / s \n",
      "   2457806.7083 2017-02-22T05:00:00.000   95.10   4.83  19.30    -3.429639376373401 km / s \n",
      "   2457806.7222 2017-02-22T05:20:00.000   95.30   8.58  19.21    -3.46803684456757 km / s \n",
      "   2457806.7361 2017-02-22T05:40:00.000   95.47  12.27  19.12    -3.504982699333872 km / s \n",
      "   2457806.7500 2017-02-22T06:00:00.000   95.62  15.87  19.04    -3.540240914002665 km / s \n",
      "   2457806.7639 2017-02-22T06:20:00.000   95.76  19.36  18.96    -3.5735883844141463 km / s \n",
      "   2457806.7778 2017-02-22T06:40:00.000   95.89  22.71  18.88    -3.604816635703872 km / s \n",
      "   2457806.7917 2017-02-22T07:00:00.000   96.02  25.90  18.81    -3.6337334182537218 km / s \n",
      "   2457806.8056 2017-02-22T07:20:00.000   96.14  28.91  18.74    -3.6601641777641016 km / s \n",
      "   2457806.8194 2017-02-22T07:40:00.000   96.26  31.69  18.67    -3.6839533908602173 km / s \n",
      "   2457806.8333 2017-02-22T08:00:00.000   96.37  34.21  18.60    -3.7049657605076045 km / s \n"
     ]
    }
   ],
   "source": [
    "\"\"\" extracting Moon info\n",
    "  1) identification of the closest (in time) tabulated data\n",
    "  Mixing BJD with UTC, don't tell anyone I did this, I'll deny!!!\n",
    "\"\"\"\n",
    "idx_start = np.argmin(np.abs(MOON_TNG['BJD']-epoch_interval[0]))\n",
    "idx_end = np.argmin(np.abs(MOON_TNG['BJD']-epoch_interval[1]))\n",
    "\n",
    "\"\"\" 2) Picking the two closest tabulated data (one before and one after the observed BJD)\n",
    "\"\"\"\n",
    "if epoch_interval[0]>MOON_TNG['BJD'][idx_start]:\n",
    "    idx_start -= 1\n",
    "    \n",
    "if epoch_interval[1]<MOON_TNG['BJD'][idx_end]:\n",
    "    idx_end += 1\n",
    "\n",
    "\n",
    "idx_length = idx_end - idx_start + 1\n",
    "\n",
    "\n",
    "print('         BJD                     iso    dist   elev   illu              Delta_RV    ')\n",
    "       2457806.6111 2017-02-22T02:40:00.000   93.48 -22.90  20.06    -3.141882954792458 km / s \n",
    "\n",
    "for ii in range(0, idx_length, 1):\n",
    "    idx = idx_start + ii\n",
    "    \n",
    "    bjd_time =  Time(MOON_TNG['BJD'][idx], format='jd', scale='utc')\n",
    "    berv = target.radial_velocity_correction(obstime=bjd_time, location=TNG_location) - target_rv*(u.km/u.s)\n",
    "    moon_distance = target.separation(SkyCoord(ra=MOON_TNG['RA_app'][idx], dec=MOON_TNG['DEC_app'][idx],frame='icrs', unit='deg')).deg\n",
    "    \n",
    "    print('{0:15.4f}    {1}  {3:6.2f} {4:6.2f} {5:6.2f}    {2} '.format(MOON_TNG['BJD'][idx],  \n",
    "                                                               bjd_time.isot, \n",
    "                                                               berv.to_string(u.km/u.s), \n",
    "                                                               moon_distance, MOON_TNG['El_app'][idx], \n",
    "                                                               MOON_TNG['illum'][idx]))\n",
    "\n",
    "    "
   ]
  },
  {
   "cell_type": "code",
   "execution_count": null,
   "metadata": {},
   "outputs": [],
   "source": []
  },
  {
   "cell_type": "code",
   "execution_count": null,
   "metadata": {},
   "outputs": [],
   "source": []
  },
  {
   "cell_type": "code",
   "execution_count": null,
   "metadata": {},
   "outputs": [],
   "source": []
  },
  {
   "cell_type": "code",
   "execution_count": null,
   "metadata": {},
   "outputs": [],
   "source": []
  },
  {
   "cell_type": "code",
   "execution_count": null,
   "metadata": {},
   "outputs": [],
   "source": []
  },
  {
   "cell_type": "code",
   "execution_count": null,
   "metadata": {},
   "outputs": [],
   "source": []
  },
  {
   "cell_type": "code",
   "execution_count": null,
   "metadata": {},
   "outputs": [],
   "source": []
  },
  {
   "cell_type": "code",
   "execution_count": null,
   "metadata": {},
   "outputs": [],
   "source": []
  },
  {
   "cell_type": "code",
   "execution_count": null,
   "metadata": {},
   "outputs": [],
   "source": []
  },
  {
   "cell_type": "code",
   "execution_count": null,
   "metadata": {},
   "outputs": [],
   "source": []
  },
  {
   "cell_type": "code",
   "execution_count": null,
   "metadata": {},
   "outputs": [],
   "source": [
    "\n",
    "import matplotlib.dates as md\n",
    "import dateutil\n",
    "\n",
    "\n",
    "\"\"\" extracting Moon info\n",
    "  1) identification of the closest (in time) tabulated data\n",
    "  Mixing BJD with UTC, don't tell anyone I did this, I'll deny!!!\n",
    "\"\"\"\n",
    "idx_start = np.argmin(np.abs(MOON_TNG['BJD']-epoch_interval[0]))\n",
    "idx_end = np.argmin(np.abs(MOON_TNG['BJD']-epoch_interval[1]))\n",
    "\n",
    "\"\"\" 2) Picking the two closest tabulated data (one before and one after the observed BJD)\n",
    "\"\"\"\n",
    "if epoch_interval[0]>MOON_TNG['BJD'][idx_start]:\n",
    "    idx_start -= 1\n",
    "    \n",
    "if epoch_interval[1]<MOON_TNG['BJD'][idx_end]:\n",
    "    idx_end += 1\n",
    "\n",
    "\n",
    "idx_length = idx_end - idx_start + 1\n",
    "\n",
    "bjd_observations = np.empty(idx_length)\n",
    "berv_correction = np.empty(idx_length)\n",
    "\n",
    "moon_distance = np.empty(idx_length)\n",
    "moon_elevation = np.empty(idx_length)\n",
    "moon_airmass = np.empty(idx_length)\n",
    "moon_illumination = np.empty(idx_length)\n",
    "\n",
    "\n",
    "\n",
    "for ii in range(0, idx_length, 1):\n",
    "    idx = idx_start + ii\n",
    "    \n",
    "    \n",
    "    \n",
    "    bjd_observations[ii] = MOON_TNG['BJD'][idx]\n",
    "    moon_distance[ii] = target.separation(SkyCoord(ra=MOON_TNG['RA_app'][idx], dec=MOON_TNG['DEC_app'][idx],frame='icrs', unit='deg')).deg\n",
    "    \n",
    "    \n",
    "    moon_elevation[ii] = MOON_TNG['El_app'][idx]\n",
    "    moon_airmass[ii] = MOON_TNG['airmass'][idx]\n",
    "    moon_illumination[ii] = MOON_TNG['illum'][idx]\n",
    "    #print(target.radial_velocity_correction(obstime=Time(bjd_observations[ii], \n",
    "    #                                                     format='jd', \n",
    "    #                                                     scale='utc'), \n",
    "    #                                        location=TNG_location).to(u.km/u.s))\n",
    "    #berv_correction[ii] = target.radial_velocity_correction(obstime=Time(bjd_observations[ii], format='jd', scale='utc'), location=TNG_location)\n",
    "\n",
    "\n",
    "\n",
    "bjd_observations_skycoords = Time(MOON_TNG['BJD'][idx_start:idx_end],  format='jd', scale='utc')\n",
    "berv_correction_skycoords = target.radial_velocity_correction(obstime=bjd_observations_skycoords, location=TNG_location).to(u.km/u.s)\n",
    "\n",
    "\n",
    "\n",
    "\n",
    "time_start = dateutil.parser.parse(night_date+'T'+night_start)\n",
    "hours_ticks = [time_start + dateutil.relativedelta.relativedelta(hours=i) for i in\n",
    "              range(0, int(night_duration))]\n",
    "\n",
    "\n",
    "fig, ax = plt.subplots(figsize=(8, 8))\n",
    "\n",
    "plt.subplots_adjust(bottom=0.2)\n",
    "plt.xticks(hours_ticks, rotation=80)\n",
    "\n",
    "\n",
    "ax.xaxis.set_major_locator(md.MinuteLocator(byminute=[0,30], interval=1, tz=None))\n",
    "ax.xaxis.set_minor_locator(md.MinuteLocator(byminute=[10,20,40,50], interval=1, tz=None))\n",
    "\n",
    "ax.set_title(date)\n",
    "ax.set_xlabel('Time (UT)')\n",
    "ax.set_ylabel('RV [m/s]')\n",
    "\n",
    "#ax.plot(bjd_observations, moon_distance, label='distance')\n",
    "#ax.plot(bjd_observations, moon_elevation, label='elevation')\n",
    "#ax.plot(bjd_observations, moon_illumination, label='illumination')\n",
    "ax.plot(bjd_observations_skycoords.plot_date, berv_correction_skycoords-10*u.km/u.s, label='illumination')\n",
    "\n",
    "ax.set_xlim(plot_bjd[0], plot_bjd[-1])\n",
    "plt.legend(facecolor='white')\n",
    "\n",
    "plt.show()\n"
   ]
  },
  {
   "cell_type": "code",
   "execution_count": 41,
   "metadata": {},
   "outputs": [
    {
     "data": {
      "text/latex": [
       "$16.87542 \\; \\mathrm{\\frac{km}{s}}$"
      ],
      "text/plain": [
       "<Quantity 16.87541991 km / s>"
      ]
     },
     "execution_count": 41,
     "metadata": {},
     "output_type": "execute_result"
    }
   ],
   "source": [
    "# Here I'm using the UTC time, but I'm not sure what should be used!!!\n",
    "barycorr = target.radial_velocity_correction(obstime=epoch_start, location=TNG_location)\n",
    "barycorr.to(u.km/u.s)[0]\n",
    "\n",
    "## THERE ARE UP to 50 m/s differences in the BERV!!!\n",
    "\n"
   ]
  },
  {
   "cell_type": "code",
   "execution_count": 36,
   "metadata": {},
   "outputs": [
    {
     "name": "stdout",
     "output_type": "stream",
     "text": [
      " ** Reading MOON data tables - it may be slow!\n"
     ]
    }
   ],
   "source": [
    "print(' ** Reading MOON data tables - it may be slow!')\n",
    "\n",
    "try:\n",
    "    MOON_TNG = np.genfromtxt('/home/malavolta/CODE/harps_skycorr/tables/JPL_moon_TNG_2012_2020.csv', names = \"BJD, flag1, flag2, RA, DEC, RA_app, DEC_app, Az_app, El_app, airmass, mag_ex, APmag, surf_bright, illum, RV_Sun, RV_Obs, none\", delimiter=',', skip_header=167)\n",
    "except:\n",
    "    MOON_TNG = np.genfromtxt('/Users/malavolta/Astro/CODE/harps_skycorr/tables/JPL_moon_TNG_2012_2020.csv', names = \"BJD, flag1, flag2, RA, DEC, RA_app, DEC_app, Az_app, El_app, airmass, mag_ex, APmag, surf_bright, illum, RV_Sun, RV_Obs, none\", delimiter=',', skip_header=167)\n",
    "    "
   ]
  },
  {
   "cell_type": "code",
   "execution_count": null,
   "metadata": {},
   "outputs": [],
   "source": []
  }
 ],
 "metadata": {
  "kernelspec": {
   "display_name": "Python 3",
   "language": "python",
   "name": "python3"
  },
  "language_info": {
   "codemirror_mode": {
    "name": "ipython",
    "version": 3
   },
   "file_extension": ".py",
   "mimetype": "text/x-python",
   "name": "python",
   "nbconvert_exporter": "python",
   "pygments_lexer": "ipython3",
   "version": "3.7.7"
  }
 },
 "nbformat": 4,
 "nbformat_minor": 4
}
